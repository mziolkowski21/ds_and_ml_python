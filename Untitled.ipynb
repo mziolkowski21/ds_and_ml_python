{
 "cells": [
  {
   "cell_type": "code",
   "execution_count": 1,
   "id": "7f06eb84",
   "metadata": {},
   "outputs": [],
   "source": [
    "import numpy as np"
   ]
  },
  {
   "cell_type": "code",
   "execution_count": 489,
   "id": "07e11dcf",
   "metadata": {},
   "outputs": [],
   "source": [
    "def matrix_solver(matrix: np.ndarray, step_val: dict):\n",
    "    rows, cols = matrix.shape\n",
    "    conditions = {'down': 'matrix[row, col] + val == matrix[row+step, col]', \n",
    "                  'up': 'matrix[row, col] + val == matrix[row-step, col] ',\n",
    "                  'right': 'matrix[row, col] + val == matrix[row, col+step]',\n",
    "                  'left': 'matrix[row, col] + val == matrix[row, col-step]'}\n",
    "    result_indices = []\n",
    "    result_vals = []\n",
    "    \n",
    "    result = {}\n",
    "\n",
    "    \n",
    "    for row in range(rows):\n",
    "        for col in range(cols):\n",
    "            all_steps_meet_criteria = []\n",
    "            for step, val in step_val.items():\n",
    "                helper = []\n",
    "                for cond_name, condition in conditions.items():\n",
    "                    try:\n",
    "                        eval(condition)\n",
    "                    except IndexError:\n",
    "                        continue\n",
    "                    else:\n",
    "                        if (cond_name == 'up' or cond_name == 'left') and (row-step < 0 or col-step < 0):\n",
    "                            continue\n",
    "                        else:\n",
    "                            helper.append(condition)\n",
    "                if helper == []:\n",
    "                    continue\n",
    "                step_meet_criteria = eval(' or '.join(helper))\n",
    "                if step_meet_criteria == False:\n",
    "                    continue\n",
    "                else:\n",
    "                    all_steps_meet_criteria.append(step_meet_criteria)\n",
    "                    \n",
    "        if False not in all_steps_meet_criteria:\n",
    "            result_indices.append([row, col])\n",
    "            result_vals.append(matrix[row,col])\n",
    "                \n",
    "    result['index'] = result_indices\n",
    "    result['val'] = result_vals\n",
    "    return result"
   ]
  },
  {
   "cell_type": "code",
   "execution_count": 490,
   "id": "805168e3",
   "metadata": {},
   "outputs": [
    {
     "data": {
      "text/plain": [
       "array([[52,  9, 35, 11, 18, 16, 80,  7, 21],\n",
       "       [29, 15, 70, 89, 75,  9, 78, 86,  4],\n",
       "       [58, 26,  4,  6, 70, 52, 15, 72, 84],\n",
       "       [17, 37, 85, 54, 53, 87, 38, 97,  9],\n",
       "       [72, 21, 92, 83, 38,  2, 39, 56, 84],\n",
       "       [43, 61, 25, 96, 33, 19, 48, 39, 56],\n",
       "       [54, 62,  4, 47, 53, 17, 49, 31, 61],\n",
       "       [31, 94, 29,  7, 46, 11,  4, 75, 88],\n",
       "       [46,  8, 74, 96, 83, 51, 65, 36,  5]])"
      ]
     },
     "execution_count": 490,
     "metadata": {},
     "output_type": "execute_result"
    }
   ],
   "source": [
    "string = '''52 9 35 11 18 16 80 7 21\n",
    "29 15 70 89 75 9 78 86 4\n",
    "58 26 4 6 70 52 15 72 84\n",
    "17 37 85 54 53 87 38 97 9\n",
    "72 21 92 83 38 2 39 56 84\n",
    "43 61 25 96 33 19 48 39 56\n",
    "54 62 4 47 53 17 49 31 61\n",
    "31 94 29 7 46 11 4 75 88\n",
    "46 8 74 96 83 51 65 36 5'''\n",
    "arr = np.fromstring(string, sep = ' ')\n",
    "arr = arr.reshape(9,9).astype(int)\n",
    "conditions = {6: 5, 7: -4, 3: 15, 2: -12}\n",
    "arr"
   ]
  },
  {
   "cell_type": "code",
   "execution_count": 491,
   "id": "bb5403b0",
   "metadata": {},
   "outputs": [
    {
     "data": {
      "text/plain": [
       "{'index': [[0, 8],\n",
       "  [1, 8],\n",
       "  [2, 8],\n",
       "  [3, 8],\n",
       "  [4, 8],\n",
       "  [5, 8],\n",
       "  [6, 8],\n",
       "  [7, 8],\n",
       "  [8, 8]],\n",
       " 'val': [21, 4, 84, 9, 84, 56, 61, 88, 5]}"
      ]
     },
     "execution_count": 491,
     "metadata": {},
     "output_type": "execute_result"
    }
   ],
   "source": [
    "matrix_solver(arr, conditions)"
   ]
  },
  {
   "cell_type": "code",
   "execution_count": 493,
   "id": "ad8777a5",
   "metadata": {},
   "outputs": [
    {
     "ename": "SyntaxError",
     "evalue": "invalid syntax (Temp/ipykernel_15972/2969221796.py, line 1)",
     "output_type": "error",
     "traceback": [
      "\u001b[1;36m  File \u001b[1;32m\"C:\\Users\\ziolk\\AppData\\Local\\Temp/ipykernel_15972/2969221796.py\"\u001b[1;36m, line \u001b[1;32m1\u001b[0m\n\u001b[1;33m    iter rows cols:\u001b[0m\n\u001b[1;37m         ^\u001b[0m\n\u001b[1;31mSyntaxError\u001b[0m\u001b[1;31m:\u001b[0m invalid syntax\n"
     ]
    }
   ],
   "source": [
    "iter rows cols:\n",
    "    iter steps:\n",
    "        iter conds x 4:\n",
    "            check if index OK (not negative)\n",
    "            if any cond ok add to "
   ]
  },
  {
   "cell_type": "code",
   "execution_count": 511,
   "id": "64b6bcb0",
   "metadata": {},
   "outputs": [
    {
     "data": {
      "text/plain": [
       "array([[ 1,  4,  3,  4,  5],\n",
       "       [ 6,  7,  8,  9, 10],\n",
       "       [11, 12, 13, 14, 15],\n",
       "       [16, 17, 18, 19, 20]])"
      ]
     },
     "execution_count": 511,
     "metadata": {},
     "output_type": "execute_result"
    }
   ],
   "source": [
    "matrix = np.arange(1,21).reshape(4,5)\n",
    "matrix[0,1] = 4\n",
    "matrix"
   ]
  },
  {
   "cell_type": "code",
   "execution_count": 521,
   "id": "fc590cf1",
   "metadata": {},
   "outputs": [
    {
     "data": {
      "text/plain": [
       "array([[ 1,  4,  3,  4,  5],\n",
       "       [ 6,  7,  8,  9, 10],\n",
       "       [11, 12, 13, 14, 15],\n",
       "       [16, 17, 18, 19, 20]])"
      ]
     },
     "execution_count": 521,
     "metadata": {},
     "output_type": "execute_result"
    }
   ],
   "source": [
    "    \n",
    "conditions = {'down': 'matrix[row, col] + val == matrix[row+step, col]', \n",
    "              'up': 'matrix[row, col] + val == matrix[row-step, col]',\n",
    "              'right': 'matrix[row, col] + val == matrix[row, col+step]',\n",
    "              'left': 'matrix[row, col] + val == matrix[row, col-step]'}\n",
    "rows, cols = matrix.shape \n",
    "steps_vals = {1:3, 2:0, 3: 13, 1:-3}\n",
    "matrix"
   ]
  },
  {
   "cell_type": "code",
   "execution_count": 548,
   "id": "dbd69581",
   "metadata": {},
   "outputs": [
    {
     "name": "stdout",
     "output_type": "stream",
     "text": [
      "[[ 1  4  3  4  5]\n",
      " [ 6  7  8  9 10]\n",
      " [11 12 13 14 15]\n",
      " [16 17 18 19 20]]\n"
     ]
    },
    {
     "data": {
      "text/plain": [
       "[4]"
      ]
     },
     "execution_count": 548,
     "metadata": {},
     "output_type": "execute_result"
    }
   ],
   "source": [
    "matrix_solver(matrix, steps_vals)"
   ]
  },
  {
   "cell_type": "code",
   "execution_count": 560,
   "id": "d3df3bc4",
   "metadata": {},
   "outputs": [],
   "source": [
    "def matrix_solver(matrix: np.ndarray, steps_vals: dict):\n",
    "    conditions = {'down': 'matrix[row, col] + val == matrix[row+step, col]', \n",
    "                  'up': 'matrix[row, col] + val == matrix[row-step, col]',\n",
    "                  'right': 'matrix[row, col] + val == matrix[row, col+step]',\n",
    "                  'left': 'matrix[row, col] + val == matrix[row, col-step]'}\n",
    "    rows, cols = matrix.shape \n",
    "    \n",
    "    result_indices = []\n",
    "    result_vals = []\n",
    "    result = {}\n",
    "    \n",
    "    for row in range(rows):\n",
    "        for col in range(cols):\n",
    "            step_ok = 0\n",
    "            for step, val in steps_vals.items():\n",
    "                for cond_name, condition in conditions.items():\n",
    "                    try:\n",
    "                        condition_met = eval(condition)\n",
    "                    except IndexError:\n",
    "                        continue\n",
    "                    else:\n",
    "                        negative_indices = (cond_name == 'up' and row-step <0) or (cond_name == 'left' and col-step < 0)\n",
    "                        if condition_met and not negative_indices:\n",
    "                            step_ok += 1\n",
    "                            break\n",
    "                        else:\n",
    "                            continue\n",
    "            if step_ok == len(steps_vals):\n",
    "                result_indices.append([row, col])\n",
    "                result_vals.append(matrix[row,col])\n",
    "                \n",
    "    result['index'] = result_indices\n",
    "    result['val'] = result_vals\n",
    "    return result                "
   ]
  },
  {
   "cell_type": "code",
   "execution_count": 561,
   "id": "8276f27c",
   "metadata": {},
   "outputs": [
    {
     "data": {
      "text/plain": [
       "array([[52,  9, 35, 11, 18, 16, 80,  7, 21],\n",
       "       [29, 15, 70, 89, 75,  9, 78, 86,  4],\n",
       "       [58, 26,  4,  6, 70, 52, 15, 72, 84],\n",
       "       [17, 37, 85, 54, 53, 87, 38, 97,  9],\n",
       "       [72, 21, 92, 83, 38,  2, 39, 56, 84],\n",
       "       [43, 61, 25, 96, 33, 19, 48, 39, 56],\n",
       "       [54, 62,  4, 47, 53, 17, 49, 31, 61],\n",
       "       [31, 94, 29,  7, 46, 11,  4, 75, 88],\n",
       "       [46,  8, 74, 96, 83, 51, 65, 36,  5]])"
      ]
     },
     "execution_count": 561,
     "metadata": {},
     "output_type": "execute_result"
    }
   ],
   "source": [
    "string = '''52 9 35 11 18 16 80 7 21\n",
    "29 15 70 89 75 9 78 86 4\n",
    "58 26 4 6 70 52 15 72 84\n",
    "17 37 85 54 53 87 38 97 9\n",
    "72 21 92 83 38 2 39 56 84\n",
    "43 61 25 96 33 19 48 39 56\n",
    "54 62 4 47 53 17 49 31 61\n",
    "31 94 29 7 46 11 4 75 88\n",
    "46 8 74 96 83 51 65 36 5'''\n",
    "arr = np.fromstring(string, sep = ' ')\n",
    "arr = arr.reshape(9,9).astype(int)\n",
    "conditions = {6: 5, 2:-12, 7:-4, 3:15}\n",
    "# 7: -4 right, 3: 15 up, 2: -12 down, 6:5 right\n",
    "arr"
   ]
  },
  {
   "cell_type": "code",
   "execution_count": 562,
   "id": "9f354606",
   "metadata": {},
   "outputs": [
    {
     "data": {
      "text/plain": [
       "{'index': [[5, 0]], 'val': [43]}"
      ]
     },
     "execution_count": 562,
     "metadata": {},
     "output_type": "execute_result"
    }
   ],
   "source": [
    "matrix_solver(arr,conditions)"
   ]
  },
  {
   "cell_type": "code",
   "execution_count": null,
   "id": "6452af36",
   "metadata": {},
   "outputs": [],
   "source": []
  },
  {
   "cell_type": "code",
   "execution_count": null,
   "id": "822836d2",
   "metadata": {},
   "outputs": [],
   "source": [
    "\n"
   ]
  },
  {
   "cell_type": "code",
   "execution_count": null,
   "id": "c9df69de",
   "metadata": {},
   "outputs": [],
   "source": []
  },
  {
   "cell_type": "code",
   "execution_count": null,
   "id": "145f0b73",
   "metadata": {},
   "outputs": [],
   "source": []
  },
  {
   "cell_type": "code",
   "execution_count": null,
   "id": "c2e4c115",
   "metadata": {},
   "outputs": [],
   "source": []
  },
  {
   "cell_type": "code",
   "execution_count": null,
   "id": "5b245e83",
   "metadata": {},
   "outputs": [],
   "source": []
  },
  {
   "cell_type": "code",
   "execution_count": null,
   "id": "4c12f850",
   "metadata": {},
   "outputs": [],
   "source": []
  },
  {
   "cell_type": "code",
   "execution_count": 1,
   "id": "87105fc6",
   "metadata": {},
   "outputs": [],
   "source": [
    "string = '''52 9 35 11 18 16 80 7 21\n",
    "29 15 70 89 75 9 78 86 4\n",
    "58 26 4 6 70 52 15 72 84\n",
    "17 37 85 54 53 87 38 97 9\n",
    "72 21 92 83 38 2 39 56 84\n",
    "43 61 25 96 33 19 48 39 56\n",
    "54 62 4 47 53 17 49 31 61\n",
    "31 94 29 7 46 11 4 75 88\n",
    "46 8 74 96 83 51 65 36 5'''"
   ]
  },
  {
   "cell_type": "code",
   "execution_count": 11,
   "id": "1c151f0e",
   "metadata": {},
   "outputs": [
    {
     "data": {
      "text/plain": [
       "[['52', '9', '35', '11', '18', '16', '80', '7', '21'],\n",
       " ['29', '15', '70', '89', '75', '9', '78', '86', '4'],\n",
       " ['58', '26', '4', '6', '70', '52', '15', '72', '84'],\n",
       " ['17', '37', '85', '54', '53', '87', '38', '97', '9'],\n",
       " ['72', '21', '92', '83', '38', '2', '39', '56', '84'],\n",
       " ['43', '61', '25', '96', '33', '19', '48', '39', '56'],\n",
       " ['54', '62', '4', '47', '53', '17', '49', '31', '61'],\n",
       " ['31', '94', '29', '7', '46', '11', '4', '75', '88'],\n",
       " ['46', '8', '74', '96', '83', '51', '65', '36', '5']]"
      ]
     },
     "execution_count": 11,
     "metadata": {},
     "output_type": "execute_result"
    }
   ],
   "source": [
    "matrix = [rows.split() for rows in string.split(\"\\n\")]\n",
    "conditions = {6: 5, 2:-12, 7:-4, 3:15}\n",
    "matrix"
   ]
  },
  {
   "cell_type": "code",
   "execution_count": 364,
   "id": "d1ec1453",
   "metadata": {},
   "outputs": [],
   "source": [
    "def matrix_solver(matrix: list, moves_vals: dict):\n",
    "    \n",
    "    rows = len(matrix)\n",
    "    cols = len(matrix[0])\n",
    "    \n",
    "    vals = moves_vals.values()\n",
    "    result = []\n",
    "    \n",
    "    \n",
    "    for row in range(rows):\n",
    "        for col in range(cols):\n",
    "            for move, val in moves_vals.items():\n",
    "                move_ok = 0\n",
    "                helper = []\n",
    "                for j in range(move):\n",
    "                    helper_row = row - move + j\n",
    "                    left_band = col-j\n",
    "                    right_band = col+j\n",
    "                    if helper_row < 0 or left_band < 0 or (helper_row == row and j == col):\n",
    "                        continue\n",
    "                    else:\n",
    "                        helper.extend(matrix[left_band:right_band+1])\n",
    "                for _ in range(1,move):\n",
    "                    helper_row += 1\n",
    "                    left_band += 1\n",
    "                    right_band -= 1\n",
    "                    if helper_row < 0 or left_band < 0 or (helper_row == row and j == col):\n",
    "                        continue\n",
    "                    else:\n",
    "                        helper.extend(matrix[left_band:right_band+1])\n",
    "                move_valid = any((matrix[row][col] + val) in sub_list for sub_list in helper)\n",
    "                print(move_valid)\n",
    "                if move_valid:\n",
    "                    move_ok += 1\n",
    "            if move_ok == len(moves_vals):\n",
    "                result.append(matrix[row][col])\n",
    "    return result\n",
    "                        \n",
    "            "
   ]
  },
  {
   "cell_type": "code",
   "execution_count": 365,
   "id": "fe934c73",
   "metadata": {},
   "outputs": [
    {
     "ename": "TypeError",
     "evalue": "can only concatenate str (not \"int\") to str",
     "output_type": "error",
     "traceback": [
      "\u001b[1;31m---------------------------------------------------------------------------\u001b[0m",
      "\u001b[1;31mTypeError\u001b[0m                                 Traceback (most recent call last)",
      "\u001b[1;32m~\\AppData\\Local\\Temp/ipykernel_16816/2668246011.py\u001b[0m in \u001b[0;36m<module>\u001b[1;34m\u001b[0m\n\u001b[0;32m      3\u001b[0m      [19,28,39]]\n\u001b[0;32m      4\u001b[0m \u001b[1;33m\u001b[0m\u001b[0m\n\u001b[1;32m----> 5\u001b[1;33m \u001b[0mmatrix_solver\u001b[0m\u001b[1;33m(\u001b[0m\u001b[0mmatrix\u001b[0m\u001b[1;33m,\u001b[0m \u001b[0mconditions\u001b[0m\u001b[1;33m)\u001b[0m\u001b[1;33m\u001b[0m\u001b[1;33m\u001b[0m\u001b[0m\n\u001b[0m",
      "\u001b[1;32m~\\AppData\\Local\\Temp/ipykernel_16816/2445946129.py\u001b[0m in \u001b[0;36mmatrix_solver\u001b[1;34m(matrix, moves_vals)\u001b[0m\n\u001b[0;32m     29\u001b[0m                     \u001b[1;32melse\u001b[0m\u001b[1;33m:\u001b[0m\u001b[1;33m\u001b[0m\u001b[1;33m\u001b[0m\u001b[0m\n\u001b[0;32m     30\u001b[0m                         \u001b[0mhelper\u001b[0m\u001b[1;33m.\u001b[0m\u001b[0mextend\u001b[0m\u001b[1;33m(\u001b[0m\u001b[0mmatrix\u001b[0m\u001b[1;33m[\u001b[0m\u001b[0mleft_band\u001b[0m\u001b[1;33m:\u001b[0m\u001b[0mright_band\u001b[0m\u001b[1;33m+\u001b[0m\u001b[1;36m1\u001b[0m\u001b[1;33m]\u001b[0m\u001b[1;33m)\u001b[0m\u001b[1;33m\u001b[0m\u001b[1;33m\u001b[0m\u001b[0m\n\u001b[1;32m---> 31\u001b[1;33m                 \u001b[0mmove_valid\u001b[0m \u001b[1;33m=\u001b[0m \u001b[0many\u001b[0m\u001b[1;33m(\u001b[0m\u001b[1;33m(\u001b[0m\u001b[0mmatrix\u001b[0m\u001b[1;33m[\u001b[0m\u001b[0mrow\u001b[0m\u001b[1;33m]\u001b[0m\u001b[1;33m[\u001b[0m\u001b[0mcol\u001b[0m\u001b[1;33m]\u001b[0m \u001b[1;33m+\u001b[0m \u001b[0mval\u001b[0m\u001b[1;33m)\u001b[0m \u001b[1;32min\u001b[0m \u001b[0msub_list\u001b[0m \u001b[1;32mfor\u001b[0m \u001b[0msub_list\u001b[0m \u001b[1;32min\u001b[0m \u001b[0mhelper\u001b[0m\u001b[1;33m)\u001b[0m\u001b[1;33m\u001b[0m\u001b[1;33m\u001b[0m\u001b[0m\n\u001b[0m\u001b[0;32m     32\u001b[0m                 \u001b[0mprint\u001b[0m\u001b[1;33m(\u001b[0m\u001b[0mmove_valid\u001b[0m\u001b[1;33m)\u001b[0m\u001b[1;33m\u001b[0m\u001b[1;33m\u001b[0m\u001b[0m\n\u001b[0;32m     33\u001b[0m                 \u001b[1;32mif\u001b[0m \u001b[0mmove_valid\u001b[0m\u001b[1;33m:\u001b[0m\u001b[1;33m\u001b[0m\u001b[1;33m\u001b[0m\u001b[0m\n",
      "\u001b[1;32m~\\AppData\\Local\\Temp/ipykernel_16816/2445946129.py\u001b[0m in \u001b[0;36m<genexpr>\u001b[1;34m(.0)\u001b[0m\n\u001b[0;32m     29\u001b[0m                     \u001b[1;32melse\u001b[0m\u001b[1;33m:\u001b[0m\u001b[1;33m\u001b[0m\u001b[1;33m\u001b[0m\u001b[0m\n\u001b[0;32m     30\u001b[0m                         \u001b[0mhelper\u001b[0m\u001b[1;33m.\u001b[0m\u001b[0mextend\u001b[0m\u001b[1;33m(\u001b[0m\u001b[0mmatrix\u001b[0m\u001b[1;33m[\u001b[0m\u001b[0mleft_band\u001b[0m\u001b[1;33m:\u001b[0m\u001b[0mright_band\u001b[0m\u001b[1;33m+\u001b[0m\u001b[1;36m1\u001b[0m\u001b[1;33m]\u001b[0m\u001b[1;33m)\u001b[0m\u001b[1;33m\u001b[0m\u001b[1;33m\u001b[0m\u001b[0m\n\u001b[1;32m---> 31\u001b[1;33m                 \u001b[0mmove_valid\u001b[0m \u001b[1;33m=\u001b[0m \u001b[0many\u001b[0m\u001b[1;33m(\u001b[0m\u001b[1;33m(\u001b[0m\u001b[0mmatrix\u001b[0m\u001b[1;33m[\u001b[0m\u001b[0mrow\u001b[0m\u001b[1;33m]\u001b[0m\u001b[1;33m[\u001b[0m\u001b[0mcol\u001b[0m\u001b[1;33m]\u001b[0m \u001b[1;33m+\u001b[0m \u001b[0mval\u001b[0m\u001b[1;33m)\u001b[0m \u001b[1;32min\u001b[0m \u001b[0msub_list\u001b[0m \u001b[1;32mfor\u001b[0m \u001b[0msub_list\u001b[0m \u001b[1;32min\u001b[0m \u001b[0mhelper\u001b[0m\u001b[1;33m)\u001b[0m\u001b[1;33m\u001b[0m\u001b[1;33m\u001b[0m\u001b[0m\n\u001b[0m\u001b[0;32m     32\u001b[0m                 \u001b[0mprint\u001b[0m\u001b[1;33m(\u001b[0m\u001b[0mmove_valid\u001b[0m\u001b[1;33m)\u001b[0m\u001b[1;33m\u001b[0m\u001b[1;33m\u001b[0m\u001b[0m\n\u001b[0;32m     33\u001b[0m                 \u001b[1;32mif\u001b[0m \u001b[0mmove_valid\u001b[0m\u001b[1;33m:\u001b[0m\u001b[1;33m\u001b[0m\u001b[1;33m\u001b[0m\u001b[0m\n",
      "\u001b[1;31mTypeError\u001b[0m: can only concatenate str (not \"int\") to str"
     ]
    }
   ],
   "source": [
    "a = [[52,9,35],\n",
    "     [4,51,62],\n",
    "     [19,28,39]]\n",
    "\n",
    "matrix_solver(matrix, conditions)"
   ]
  },
  {
   "cell_type": "code",
   "execution_count": 131,
   "id": "7ba5b644",
   "metadata": {},
   "outputs": [
    {
     "data": {
      "text/plain": [
       "True"
      ]
     },
     "execution_count": 131,
     "metadata": {},
     "output_type": "execute_result"
    }
   ],
   "source": [
    "b = [[1,4,3]]\n",
    "any(1 in sub_list for sub_list in b)"
   ]
  },
  {
   "cell_type": "code",
   "execution_count": 169,
   "id": "f87c91f0",
   "metadata": {
    "scrolled": true
   },
   "outputs": [
    {
     "name": "stdout",
     "output_type": "stream",
     "text": [
      "False\n",
      "False\n",
      "False\n",
      "False\n",
      "False\n",
      "False\n",
      "False\n",
      "False\n",
      "False\n"
     ]
    },
    {
     "ename": "TypeError",
     "evalue": "can only concatenate str (not \"int\") to str",
     "output_type": "error",
     "traceback": [
      "\u001b[1;31m---------------------------------------------------------------------------\u001b[0m",
      "\u001b[1;31mTypeError\u001b[0m                                 Traceback (most recent call last)",
      "\u001b[1;32m~\\AppData\\Local\\Temp/ipykernel_16816/526923937.py\u001b[0m in \u001b[0;36m<module>\u001b[1;34m\u001b[0m\n\u001b[1;32m----> 1\u001b[1;33m \u001b[0mmatrix_solver\u001b[0m\u001b[1;33m(\u001b[0m\u001b[0mmatrix\u001b[0m\u001b[1;33m,\u001b[0m \u001b[1;33m{\u001b[0m\u001b[1;36m1\u001b[0m\u001b[1;33m:\u001b[0m\u001b[1;36m2\u001b[0m\u001b[1;33m}\u001b[0m\u001b[1;33m)\u001b[0m\u001b[1;33m\u001b[0m\u001b[1;33m\u001b[0m\u001b[0m\n\u001b[0m",
      "\u001b[1;32m~\\AppData\\Local\\Temp/ipykernel_16816/2445946129.py\u001b[0m in \u001b[0;36mmatrix_solver\u001b[1;34m(matrix, moves_vals)\u001b[0m\n\u001b[0;32m     29\u001b[0m                     \u001b[1;32melse\u001b[0m\u001b[1;33m:\u001b[0m\u001b[1;33m\u001b[0m\u001b[1;33m\u001b[0m\u001b[0m\n\u001b[0;32m     30\u001b[0m                         \u001b[0mhelper\u001b[0m\u001b[1;33m.\u001b[0m\u001b[0mextend\u001b[0m\u001b[1;33m(\u001b[0m\u001b[0mmatrix\u001b[0m\u001b[1;33m[\u001b[0m\u001b[0mleft_band\u001b[0m\u001b[1;33m:\u001b[0m\u001b[0mright_band\u001b[0m\u001b[1;33m+\u001b[0m\u001b[1;36m1\u001b[0m\u001b[1;33m]\u001b[0m\u001b[1;33m)\u001b[0m\u001b[1;33m\u001b[0m\u001b[1;33m\u001b[0m\u001b[0m\n\u001b[1;32m---> 31\u001b[1;33m                 \u001b[0mmove_valid\u001b[0m \u001b[1;33m=\u001b[0m \u001b[0many\u001b[0m\u001b[1;33m(\u001b[0m\u001b[1;33m(\u001b[0m\u001b[0mmatrix\u001b[0m\u001b[1;33m[\u001b[0m\u001b[0mrow\u001b[0m\u001b[1;33m]\u001b[0m\u001b[1;33m[\u001b[0m\u001b[0mcol\u001b[0m\u001b[1;33m]\u001b[0m \u001b[1;33m+\u001b[0m \u001b[0mval\u001b[0m\u001b[1;33m)\u001b[0m \u001b[1;32min\u001b[0m \u001b[0msub_list\u001b[0m \u001b[1;32mfor\u001b[0m \u001b[0msub_list\u001b[0m \u001b[1;32min\u001b[0m \u001b[0mhelper\u001b[0m\u001b[1;33m)\u001b[0m\u001b[1;33m\u001b[0m\u001b[1;33m\u001b[0m\u001b[0m\n\u001b[0m\u001b[0;32m     32\u001b[0m                 \u001b[0mprint\u001b[0m\u001b[1;33m(\u001b[0m\u001b[0mmove_valid\u001b[0m\u001b[1;33m)\u001b[0m\u001b[1;33m\u001b[0m\u001b[1;33m\u001b[0m\u001b[0m\n\u001b[0;32m     33\u001b[0m                 \u001b[1;32mif\u001b[0m \u001b[0mmove_valid\u001b[0m\u001b[1;33m:\u001b[0m\u001b[1;33m\u001b[0m\u001b[1;33m\u001b[0m\u001b[0m\n",
      "\u001b[1;32m~\\AppData\\Local\\Temp/ipykernel_16816/2445946129.py\u001b[0m in \u001b[0;36m<genexpr>\u001b[1;34m(.0)\u001b[0m\n\u001b[0;32m     29\u001b[0m                     \u001b[1;32melse\u001b[0m\u001b[1;33m:\u001b[0m\u001b[1;33m\u001b[0m\u001b[1;33m\u001b[0m\u001b[0m\n\u001b[0;32m     30\u001b[0m                         \u001b[0mhelper\u001b[0m\u001b[1;33m.\u001b[0m\u001b[0mextend\u001b[0m\u001b[1;33m(\u001b[0m\u001b[0mmatrix\u001b[0m\u001b[1;33m[\u001b[0m\u001b[0mleft_band\u001b[0m\u001b[1;33m:\u001b[0m\u001b[0mright_band\u001b[0m\u001b[1;33m+\u001b[0m\u001b[1;36m1\u001b[0m\u001b[1;33m]\u001b[0m\u001b[1;33m)\u001b[0m\u001b[1;33m\u001b[0m\u001b[1;33m\u001b[0m\u001b[0m\n\u001b[1;32m---> 31\u001b[1;33m                 \u001b[0mmove_valid\u001b[0m \u001b[1;33m=\u001b[0m \u001b[0many\u001b[0m\u001b[1;33m(\u001b[0m\u001b[1;33m(\u001b[0m\u001b[0mmatrix\u001b[0m\u001b[1;33m[\u001b[0m\u001b[0mrow\u001b[0m\u001b[1;33m]\u001b[0m\u001b[1;33m[\u001b[0m\u001b[0mcol\u001b[0m\u001b[1;33m]\u001b[0m \u001b[1;33m+\u001b[0m \u001b[0mval\u001b[0m\u001b[1;33m)\u001b[0m \u001b[1;32min\u001b[0m \u001b[0msub_list\u001b[0m \u001b[1;32mfor\u001b[0m \u001b[0msub_list\u001b[0m \u001b[1;32min\u001b[0m \u001b[0mhelper\u001b[0m\u001b[1;33m)\u001b[0m\u001b[1;33m\u001b[0m\u001b[1;33m\u001b[0m\u001b[0m\n\u001b[0m\u001b[0;32m     32\u001b[0m                 \u001b[0mprint\u001b[0m\u001b[1;33m(\u001b[0m\u001b[0mmove_valid\u001b[0m\u001b[1;33m)\u001b[0m\u001b[1;33m\u001b[0m\u001b[1;33m\u001b[0m\u001b[0m\n\u001b[0;32m     33\u001b[0m                 \u001b[1;32mif\u001b[0m \u001b[0mmove_valid\u001b[0m\u001b[1;33m:\u001b[0m\u001b[1;33m\u001b[0m\u001b[1;33m\u001b[0m\u001b[0m\n",
      "\u001b[1;31mTypeError\u001b[0m: can only concatenate str (not \"int\") to str"
     ]
    }
   ],
   "source": [
    "matrix_solver(matrix, {1:2})"
   ]
  },
  {
   "cell_type": "code",
   "execution_count": 77,
   "id": "b621406d",
   "metadata": {},
   "outputs": [
    {
     "data": {
      "text/plain": [
       "[['11'],\n",
       " ['70', '89', '75'],\n",
       " ['26', '4', '6', '70', '52'],\n",
       " ['85', '54', '53'],\n",
       " ['83']]"
      ]
     },
     "execution_count": 77,
     "metadata": {},
     "output_type": "execute_result"
    }
   ],
   "source": [
    "helper = []\n",
    "\n",
    "for j in range(3):\n",
    "    row = 3-3 + j\n",
    "    left_band = 3-j\n",
    "    right_band = 3+j\n",
    "    helper.append(matrix[row][left_band:right_band+1])\n",
    "for _ in range(1,3):\n",
    "    row += 1\n",
    "    left_band += 1\n",
    "    right_band -= 1\n",
    "    helper.append(matrix[row][left_band:right_band+1])\n",
    "\n",
    "helper"
   ]
  },
  {
   "cell_type": "code",
   "execution_count": 61,
   "id": "6d962328",
   "metadata": {},
   "outputs": [
    {
     "data": {
      "text/plain": [
       "[[0, 0, 0, 0, 0, 0, 0],\n",
       " [0, 0, 0, 0, 0, 0, 0],\n",
       " [0, 0, 0, 0, 0, 0, 0],\n",
       " [0, 0, 0, 0, 0, 0, 0],\n",
       " [0, 0, 0, 0, 0, 0, 0],\n",
       " [0, 0, 0, 0, 0, 0, 0],\n",
       " [0, 0, 0, 0, 0, 0, 0]]"
      ]
     },
     "execution_count": 61,
     "metadata": {},
     "output_type": "execute_result"
    }
   ],
   "source": [
    "m = [[0 for x in range(7)] for y in range(7)] \n",
    "m"
   ]
  },
  {
   "cell_type": "code",
   "execution_count": 65,
   "id": "d837556c",
   "metadata": {},
   "outputs": [
    {
     "data": {
      "text/plain": [
       "[['52', '9', '35', '11', '18', '16', '80', '7', '21'],\n",
       " ['29', '15', '70', '89', '75', '9', '78', '86', '4'],\n",
       " ['58', '26', '4', '6', '70', '52', '15', '72', '84'],\n",
       " ['17', '37', '85', '54', '53', '87', '38', '97', '9'],\n",
       " ['72', '21', '92', '83', '38', '2', '39', '56', '84'],\n",
       " ['43', '61', '25', '96', '33', '19', '48', '39', '56'],\n",
       " ['54', '62', '4', '47', '53', '17', '49', '31', '61'],\n",
       " ['31', '94', '29', '7', '46', '11', '4', '75', '88'],\n",
       " ['46', '8', '74', '96', '83', '51', '65', '36', '5']]"
      ]
     },
     "execution_count": 65,
     "metadata": {},
     "output_type": "execute_result"
    }
   ],
   "source": [
    "matrix"
   ]
  },
  {
   "cell_type": "code",
   "execution_count": null,
   "id": "9c167e6f",
   "metadata": {},
   "outputs": [],
   "source": []
  },
  {
   "cell_type": "code",
   "execution_count": 173,
   "id": "4d6ae9dd",
   "metadata": {},
   "outputs": [
    {
     "data": {
      "text/plain": [
       "[['52', '9', '35', '11', '18', '16', '80', '7', '21'],\n",
       " ['29', '15', '70', '89', '75', '9', '78', '86', '4'],\n",
       " ['58', '26', '4', '6', '70', '52', '15', '72', '84'],\n",
       " ['17', '37', '85', '54', '53', '87', '38', '97', '9'],\n",
       " ['72', '21', '92', '83', '38', '2', '39', '56', '84'],\n",
       " ['43', '61', '25', '96', '33', '19', '48', '39', '56'],\n",
       " ['54', '62', '4', '47', '53', '17', '49', '31', '61'],\n",
       " ['31', '94', '29', '7', '46', '11', '4', '75', '88'],\n",
       " ['46', '8', '74', '96', '83', '51', '65', '36', '5']]"
      ]
     },
     "execution_count": 173,
     "metadata": {},
     "output_type": "execute_result"
    }
   ],
   "source": [
    "matrix"
   ]
  },
  {
   "cell_type": "code",
   "execution_count": 184,
   "id": "8cd08873",
   "metadata": {},
   "outputs": [
    {
     "data": {
      "text/plain": [
       "[['52', '9', '35', '11', '18'],\n",
       " ['29', '15', '70', '89', '75'],\n",
       " ['58', '26', '4', '6', '70'],\n",
       " ['17', '37', '85', '54', '53'],\n",
       " ['72', '21', '92', '83', '38']]"
      ]
     },
     "execution_count": 184,
     "metadata": {},
     "output_type": "execute_result"
    }
   ],
   "source": [
    "m2 = [[column for column in row[:5]] for row in matrix[:5]]\n",
    "m2"
   ]
  },
  {
   "cell_type": "code",
   "execution_count": 182,
   "id": "18f4a439",
   "metadata": {},
   "outputs": [
    {
     "data": {
      "text/plain": [
       "['52', '9', '35', '29', '15', '70', '58', '26', '4']"
      ]
     },
     "execution_count": 182,
     "metadata": {},
     "output_type": "execute_result"
    }
   ],
   "source": [
    "def matrix_val_gen(matrix):\n",
    "    num_rows = len(matrix)\n",
    "    num_cols = len(matrix[0])\n",
    "    \n",
    "    for row in range(num_rows):\n",
    "        for col in range(num_cols):\n",
    "            yield matrix[row][col]\n",
    "\n",
    "list(matrix_val_gen(m2))"
   ]
  },
  {
   "cell_type": "code",
   "execution_count": 186,
   "id": "05d16e3b",
   "metadata": {},
   "outputs": [
    {
     "data": {
      "text/plain": [
       "'4'"
      ]
     },
     "execution_count": 186,
     "metadata": {},
     "output_type": "execute_result"
    }
   ],
   "source": [
    "m2[2][2]"
   ]
  },
  {
   "cell_type": "code",
   "execution_count": 256,
   "id": "0ce32a8e",
   "metadata": {},
   "outputs": [
    {
     "data": {
      "text/plain": [
       "[[52, 9, 35, 11, 18],\n",
       " [29, 15, 70, 89, 75],\n",
       " [58, 26, 4, 6, 70],\n",
       " [17, 37, 85, 54, 53],\n",
       " [72, 21, 92, 83, 38]]"
      ]
     },
     "execution_count": 256,
     "metadata": {},
     "output_type": "execute_result"
    }
   ],
   "source": [
    "m2"
   ]
  },
  {
   "cell_type": "code",
   "execution_count": 257,
   "id": "eb4d64c2",
   "metadata": {},
   "outputs": [],
   "source": [
    "row = 2\n",
    "col = 2\n",
    "move = 2\n",
    "m2 = [[int(a) for a in m] for m in m2]"
   ]
  },
  {
   "cell_type": "code",
   "execution_count": 421,
   "id": "167ec6fd",
   "metadata": {},
   "outputs": [],
   "source": [
    "def matrix_extractor(matrix, row, col, move_range):\n",
    "\n",
    "    result = []\n",
    "    i = 0\n",
    "     \n",
    "    for i in range(move_range+1):\n",
    "        negative_row = (row-move_range+i) < 0\n",
    "        negative_col = col-i < 0\n",
    "        if negative_row:\n",
    "            continue\n",
    "        elif negative_col:\n",
    "            try:\n",
    "                result.extend(matrix[row-move_range+i][0:col+i+1])\n",
    "            except IndexError: # solves problems with raeching outside the matrix for rows \n",
    "                continue\n",
    "        else:\n",
    "            try:\n",
    "                result.extend(matrix[row-move_range+i][col-i:col+i+1])\n",
    "            except IndexError:\n",
    "                continue\n",
    "    for i in range(move_range):\n",
    "        negative_col = col-i-1 < 0\n",
    "        if negative_col:\n",
    "            try:\n",
    "                result.extend(matrix[row+i+1][0:col-i+2])\n",
    "            except IndexError:\n",
    "                continue\n",
    "        else:\n",
    "            try:\n",
    "                result.extend(matrix[row+i+1][col+i-1:col-i+2])\n",
    "            except IndexError:\n",
    "                continue\n",
    "    result.remove(matrix[row][col])\n",
    "    return result\n",
    "   "
   ]
  },
  {
   "cell_type": "code",
   "execution_count": 422,
   "id": "7e4bc973",
   "metadata": {},
   "outputs": [
    {
     "data": {
      "text/plain": [
       "[[52, 9, 35, 11, 18],\n",
       " [29, 15, 70, 89, 75],\n",
       " [58, 26, 4, 6, 70],\n",
       " [17, 37, 85, 54, 53],\n",
       " [72, 21, 92, 83, 38]]"
      ]
     },
     "execution_count": 422,
     "metadata": {},
     "output_type": "execute_result"
    }
   ],
   "source": [
    "m2"
   ]
  },
  {
   "cell_type": "code",
   "execution_count": 423,
   "id": "f0397f06",
   "metadata": {},
   "outputs": [
    {
     "data": {
      "text/plain": [
       "[35, 11, 89, 75, 70]"
      ]
     },
     "execution_count": 423,
     "metadata": {},
     "output_type": "execute_result"
    }
   ],
   "source": [
    "matrix_extractor(m2, 0, 4, 2)"
   ]
  },
  {
   "cell_type": "code",
   "execution_count": 424,
   "id": "fd3734e5",
   "metadata": {},
   "outputs": [],
   "source": [
    "def condition_passed(extracted_vals, condition):\n",
    "    return condition in extracted_vals\n",
    "\n",
    "\n",
    "def matrix_solver(matrix: list, conditions: list):\n",
    "    \n",
    "    num_rows = len(matrix)\n",
    "    num_cols = len(matrix[0])\n",
    "    result = []\n",
    "    \n",
    "    for row in range(num_rows):\n",
    "        for col in range(num_cols):\n",
    "            assesor = 0\n",
    "            for move_range, condition in conditions:\n",
    "                extracted = matrix_extractor(matrix, row, col, move_range)\n",
    "                passed = condition_passed(extracted, matrix[row][col]+condition)\n",
    "                if passed:\n",
    "                    assesor += 1\n",
    "                else:\n",
    "                    break\n",
    "            if assesor == len(conditions):\n",
    "                result.append(matrix[row][col])\n",
    "    return result\n",
    "\n",
    "# to do, convert strings to ints: def ensure_ints(matrix), ensure_matrix, ensure_dict_conditions"
   ]
  },
  {
   "cell_type": "code",
   "execution_count": 425,
   "id": "16c82437",
   "metadata": {},
   "outputs": [
    {
     "data": {
      "text/plain": [
       "[43]"
      ]
     },
     "execution_count": 425,
     "metadata": {},
     "output_type": "execute_result"
    }
   ],
   "source": [
    "mat = [[int(a) for a in r] for r in matrix]\n",
    "conditions\n",
    "matrix_solver(mat, conditions)\n"
   ]
  },
  {
   "cell_type": "code",
   "execution_count": 426,
   "id": "328dfcec",
   "metadata": {},
   "outputs": [],
   "source": [
    "conditions = [(6,5), (2,-12), (7, -4), (3,15)]"
   ]
  },
  {
   "cell_type": "code",
   "execution_count": 427,
   "id": "df854677",
   "metadata": {},
   "outputs": [
    {
     "data": {
      "text/plain": [
       "[[52, 9, 35, 11, 18],\n",
       " [29, 15, 70, 89, 75],\n",
       " [58, 26, 4, 6, 70],\n",
       " [17, 37, 85, 54, 53],\n",
       " [72, 21, 92, 83, 38]]"
      ]
     },
     "execution_count": 427,
     "metadata": {},
     "output_type": "execute_result"
    }
   ],
   "source": [
    "m2"
   ]
  },
  {
   "cell_type": "code",
   "execution_count": 431,
   "id": "1a930d03",
   "metadata": {},
   "outputs": [
    {
     "data": {
      "text/plain": [
       "[53]"
      ]
     },
     "execution_count": 431,
     "metadata": {},
     "output_type": "execute_result"
    }
   ],
   "source": [
    "matrix_solver(m2, [(1, 17), (1,1), (2,22)])"
   ]
  },
  {
   "cell_type": "code",
   "execution_count": 404,
   "id": "a0eb7cec",
   "metadata": {},
   "outputs": [
    {
     "data": {
      "text/plain": [
       "{1: 78}"
      ]
     },
     "execution_count": 404,
     "metadata": {},
     "output_type": "execute_result"
    }
   ],
   "source": [
    "{1:17, 1:1, 1:2, 1:78}"
   ]
  },
  {
   "cell_type": "code",
   "execution_count": 414,
   "id": "4db7253e",
   "metadata": {},
   "outputs": [
    {
     "data": {
      "text/plain": [
       "1"
      ]
     },
     "execution_count": 414,
     "metadata": {},
     "output_type": "execute_result"
    }
   ],
   "source": [
    "r, c = (1 ,2)\n",
    "r"
   ]
  },
  {
   "cell_type": "code",
   "execution_count": null,
   "id": "dd9bac58",
   "metadata": {},
   "outputs": [],
   "source": []
  }
 ],
 "metadata": {
  "kernelspec": {
   "display_name": "Python 3 (ipykernel)",
   "language": "python",
   "name": "python3"
  },
  "language_info": {
   "codemirror_mode": {
    "name": "ipython",
    "version": 3
   },
   "file_extension": ".py",
   "mimetype": "text/x-python",
   "name": "python",
   "nbconvert_exporter": "python",
   "pygments_lexer": "ipython3",
   "version": "3.9.7"
  }
 },
 "nbformat": 4,
 "nbformat_minor": 5
}
