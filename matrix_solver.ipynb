{
 "cells": [
  {
   "cell_type": "code",
   "execution_count": 1,
   "id": "433687d1",
   "metadata": {},
   "outputs": [],
   "source": [
    "def matrix_extractor(matrix, row, col, move_range):\n",
    "\n",
    "    result = []\n",
    "    i = 0\n",
    "     \n",
    "    for i in range(move_range+1):\n",
    "        negative_row = (row-move_range+i) < 0\n",
    "        negative_col = col-i < 0\n",
    "        if negative_row:\n",
    "            continue\n",
    "        elif negative_col:\n",
    "            try:\n",
    "                result.extend(matrix[row-move_range+i][0:col+i+1])\n",
    "            except IndexError: # solves problems with raeching outside the matrix for rows \n",
    "                continue\n",
    "        else:\n",
    "            try:\n",
    "                result.extend(matrix[row-move_range+i][col-i:col+i+1])\n",
    "            except IndexError:\n",
    "                continue\n",
    "    for i in range(move_range):\n",
    "        negative_col = col-i-1 < 0\n",
    "        if negative_col:\n",
    "            try:\n",
    "                result.extend(matrix[row+i+1][0:col-i+2])\n",
    "            except IndexError:\n",
    "                continue\n",
    "        else:\n",
    "            try:\n",
    "                result.extend(matrix[row+i+1][col+i-1:col-i+2])\n",
    "            except IndexError:\n",
    "                continue\n",
    "    result.remove(matrix[row][col])\n",
    "    return result\n",
    "   "
   ]
  },
  {
   "cell_type": "code",
   "execution_count": 2,
   "id": "42e17f29",
   "metadata": {},
   "outputs": [],
   "source": [
    "def condition_passed(extracted_vals, condition):\n",
    "    return condition in extracted_vals\n",
    "\n",
    "\n",
    "def matrix_solver(matrix: list, conditions: list):\n",
    "    \n",
    "    num_rows = len(matrix)\n",
    "    num_cols = len(matrix[0])\n",
    "    result = []\n",
    "    \n",
    "    for row in range(num_rows):\n",
    "        for col in range(num_cols):\n",
    "            assesor = 0\n",
    "            for move_range, condition in conditions:\n",
    "                extracted = matrix_extractor(matrix, row, col, move_range)\n",
    "                passed = condition_passed(extracted, matrix[row][col]+condition)\n",
    "                if passed:\n",
    "                    assesor += 1\n",
    "                else:\n",
    "                    break\n",
    "            if assesor == len(conditions):\n",
    "                result.append(matrix[row][col])\n",
    "    return result\n",
    "\n",
    "# to do, convert strings to ints: def ensure_ints(matrix), ensure_matrix, ensure_dict_conditions"
   ]
  },
  {
   "cell_type": "code",
   "execution_count": 3,
   "id": "275747d1",
   "metadata": {},
   "outputs": [],
   "source": [
    "string = '''52 9 35 11 18 16 80 7 21\n",
    "29 15 70 89 75 9 78 86 4\n",
    "58 26 4 6 70 52 15 72 84\n",
    "17 37 85 54 53 87 38 97 9\n",
    "72 21 92 83 38 2 39 56 84\n",
    "43 61 25 96 33 19 48 39 56\n",
    "54 62 4 47 53 17 49 31 61\n",
    "31 94 29 7 46 11 4 75 88\n",
    "46 8 74 96 83 51 65 36 5'''\n",
    "\n",
    "matrix = [rows.split() for rows in string.split(\"\\n\")]\n",
    "matrix = [[int(a) for a in r] for r in matrix]"
   ]
  },
  {
   "cell_type": "code",
   "execution_count": 5,
   "id": "8933c3bc",
   "metadata": {},
   "outputs": [
    {
     "data": {
      "text/plain": [
       "[[52, 9, 35, 11, 18, 16, 80, 7, 21],\n",
       " [29, 15, 70, 89, 75, 9, 78, 86, 4],\n",
       " [58, 26, 4, 6, 70, 52, 15, 72, 84],\n",
       " [17, 37, 85, 54, 53, 87, 38, 97, 9],\n",
       " [72, 21, 92, 83, 38, 2, 39, 56, 84],\n",
       " [43, 61, 25, 96, 33, 19, 48, 39, 56],\n",
       " [54, 62, 4, 47, 53, 17, 49, 31, 61],\n",
       " [31, 94, 29, 7, 46, 11, 4, 75, 88],\n",
       " [46, 8, 74, 96, 83, 51, 65, 36, 5]]"
      ]
     },
     "execution_count": 5,
     "metadata": {},
     "output_type": "execute_result"
    }
   ],
   "source": [
    "conditions = [(6,5), (2,-12), (7, -4), (3,15)]\n",
    "matrix"
   ]
  },
  {
   "cell_type": "code",
   "execution_count": 6,
   "id": "f1bf9440",
   "metadata": {},
   "outputs": [
    {
     "name": "stdout",
     "output_type": "stream",
     "text": [
      "[43]\n"
     ]
    }
   ],
   "source": [
    "matrix_solver(matrix, conditions)"
   ]
  },
  {
   "cell_type": "code",
   "execution_count": 7,
   "id": "72b3b9d1",
   "metadata": {},
   "outputs": [
    {
     "data": {
      "text/plain": [
       "[[52, 9, 35, 11, 18],\n",
       " [29, 15, 70, 89, 75],\n",
       " [58, 26, 4, 6, 70],\n",
       " [17, 37, 85, 54, 53],\n",
       " [72, 21, 92, 83, 38]]"
      ]
     },
     "execution_count": 7,
     "metadata": {},
     "output_type": "execute_result"
    }
   ],
   "source": [
    "m2 = [[column for column in row[:5]] for row in matrix[:5]]\n",
    "c2 = [(1, 17), (1,1), (2,22)]\n",
    "m2"
   ]
  },
  {
   "cell_type": "code",
   "execution_count": 8,
   "id": "79e6c2e1",
   "metadata": {},
   "outputs": [
    {
     "data": {
      "text/plain": [
       "[53]"
      ]
     },
     "execution_count": 8,
     "metadata": {},
     "output_type": "execute_result"
    }
   ],
   "source": [
    "matrix_solver(m2, c2)"
   ]
  },
  {
   "cell_type": "code",
   "execution_count": 9,
   "id": "87fda1f6",
   "metadata": {},
   "outputs": [
    {
     "name": "stdout",
     "output_type": "stream",
     "text": [
      "[9, 35, 29, 15, 58] [9, 35, 11, 29, 15, 70, 89, 75, 58, 26, 6, 70, 37, 85, 54, 92]\n"
     ]
    }
   ],
   "source": [
    "print(matrix_extractor(m2, 0, 0, 2), matrix_extractor(m2, 2, 2, 3))"
   ]
  }
 ],
 "metadata": {
  "kernelspec": {
   "display_name": "Python 3 (ipykernel)",
   "language": "python",
   "name": "python3"
  },
  "language_info": {
   "codemirror_mode": {
    "name": "ipython",
    "version": 3
   },
   "file_extension": ".py",
   "mimetype": "text/x-python",
   "name": "python",
   "nbconvert_exporter": "python",
   "pygments_lexer": "ipython3",
   "version": "3.9.7"
  }
 },
 "nbformat": 4,
 "nbformat_minor": 5
}
